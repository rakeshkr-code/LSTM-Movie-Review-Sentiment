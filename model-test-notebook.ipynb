{
 "cells": [
  {
   "cell_type": "markdown",
   "metadata": {},
   "source": [
    "**IMPORTS**"
   ]
  },
  {
   "cell_type": "code",
   "execution_count": 22,
   "metadata": {},
   "outputs": [],
   "source": [
    "import numpy as np\n",
    "import pandas as pd\n",
    "import torch\n",
    "import torch.nn as nn\n",
    "import torch.optim as optim\n",
    "from torch.utils.data import Dataset, DataLoader\n",
    "from sklearn.model_selection import train_test_split\n",
    "from sklearn.metrics import accuracy_score\n",
    "from sklearn.metrics import accuracy_score, precision_score, recall_score, f1_score, confusion_matrix\n",
    "import matplotlib.pyplot as plt\n",
    "import seaborn as sns\n",
    "from collections import Counter\n",
    "from tqdm.notebook import tqdm\n",
    "from sklearn.metrics import confusion_matrix\n",
    "from sklearn.metrics import ConfusionMatrixDisplay\n",
    "from nltk.tokenize import word_tokenize\n",
    "import nltk\n",
    "import re\n",
    "import os\n",
    "import string\n",
    "import json"
   ]
  },
  {
   "cell_type": "code",
   "execution_count": 23,
   "metadata": {},
   "outputs": [
    {
     "name": "stderr",
     "output_type": "stream",
     "text": [
      "[nltk_data] Downloading package punkt to\n",
      "[nltk_data]     C:\\Users\\Rakesh\\AppData\\Roaming\\nltk_data...\n",
      "[nltk_data]   Package punkt is already up-to-date!\n"
     ]
    },
    {
     "data": {
      "text/plain": [
       "True"
      ]
     },
     "execution_count": 23,
     "metadata": {},
     "output_type": "execute_result"
    }
   ],
   "source": [
    "nltk.download('punkt')"
   ]
  },
  {
   "cell_type": "markdown",
   "metadata": {},
   "source": [
    "**LOAD DATA**"
   ]
  },
  {
   "cell_type": "code",
   "execution_count": 24,
   "metadata": {},
   "outputs": [
    {
     "data": {
      "text/html": [
       "<div>\n",
       "<style scoped>\n",
       "    .dataframe tbody tr th:only-of-type {\n",
       "        vertical-align: middle;\n",
       "    }\n",
       "\n",
       "    .dataframe tbody tr th {\n",
       "        vertical-align: top;\n",
       "    }\n",
       "\n",
       "    .dataframe thead th {\n",
       "        text-align: right;\n",
       "    }\n",
       "</style>\n",
       "<table border=\"1\" class=\"dataframe\">\n",
       "  <thead>\n",
       "    <tr style=\"text-align: right;\">\n",
       "      <th></th>\n",
       "      <th>Unnamed: 0</th>\n",
       "      <th>review</th>\n",
       "      <th>sentiment</th>\n",
       "    </tr>\n",
       "  </thead>\n",
       "  <tbody>\n",
       "    <tr>\n",
       "      <th>0</th>\n",
       "      <td>41967</td>\n",
       "      <td>I got the DVD very cheap and I'm a total Drewb...</td>\n",
       "      <td>negative</td>\n",
       "    </tr>\n",
       "    <tr>\n",
       "      <th>1</th>\n",
       "      <td>33842</td>\n",
       "      <td>I liked this comedy so much. Will Smith does n...</td>\n",
       "      <td>positive</td>\n",
       "    </tr>\n",
       "    <tr>\n",
       "      <th>2</th>\n",
       "      <td>47000</td>\n",
       "      <td>What a piece of junk this movie was. The premi...</td>\n",
       "      <td>negative</td>\n",
       "    </tr>\n",
       "    <tr>\n",
       "      <th>3</th>\n",
       "      <td>16580</td>\n",
       "      <td>I am a big fan of the movie, but not for the u...</td>\n",
       "      <td>positive</td>\n",
       "    </tr>\n",
       "    <tr>\n",
       "      <th>4</th>\n",
       "      <td>39715</td>\n",
       "      <td>Im going to keep this fairly brief as to not s...</td>\n",
       "      <td>positive</td>\n",
       "    </tr>\n",
       "  </tbody>\n",
       "</table>\n",
       "</div>"
      ],
      "text/plain": [
       "   Unnamed: 0                                             review sentiment\n",
       "0       41967  I got the DVD very cheap and I'm a total Drewb...  negative\n",
       "1       33842  I liked this comedy so much. Will Smith does n...  positive\n",
       "2       47000  What a piece of junk this movie was. The premi...  negative\n",
       "3       16580  I am a big fan of the movie, but not for the u...  positive\n",
       "4       39715  Im going to keep this fairly brief as to not s...  positive"
      ]
     },
     "execution_count": 24,
     "metadata": {},
     "output_type": "execute_result"
    }
   ],
   "source": [
    "file_path = \"./data/IMDB_Data.csv\"\n",
    "data = pd.read_csv(file_path)\n",
    "data.head()"
   ]
  },
  {
   "cell_type": "code",
   "execution_count": 25,
   "metadata": {},
   "outputs": [
    {
     "data": {
      "text/plain": [
       "('When people harp on about how \"they don\\'t make \\'em like they used to\" then just point them towards this fantastically entertaining, and quaint-looking, comedy horror from writer-director Glenn McQuaid.<br /><br />It\\'s a tale of graverobbers (played by Dominic Monaghan and Larry Fessenden) who end up digging up more than just silent, immobile corpses. After the initial shock of this they soon realise that they can actually turn the situation to their advantage. And that\\'s just what they try to do. Mind you, it seems as if things may not have worked out quite as they planned as poor young Arthur (Monaghan) is actually relating his tale to a priest (Ron Perlman) before being taken to the gallows.<br /><br />Looking at the detail of his filmography, McQuaid seems to have taken the core of his first, short movie and expanded it to this feature effort, which is no bad thing. Fessenden returns and does well, Monaghan is one of those guys who can actually still get you to like him while he goes about the nefarious business of stealing from the dead and with other genre favourites such as Perlman and Angus Scrimm on the scene this film is a lot of fun for genre fans.<br /><br />It also benefits from a unique and favourable design and look, at times moving from E.C. Comic-style panels into live action (a la Creepshow) and always somehow feeling quite authentic in it\\'s Hammer Horror feel. Maybe everything is just covered over with so much dry ice but that\\'s beside the point. Whatever was done to capture everything on film, it works. It works well.<br /><br />It may not have any actual scares but this film does have a great vein of black humour and definitely soaks every minute of it\\'s runtime in macabre material that should please all of those who have the patience for horror that\\'s a little bit more sedate and feels like it definitely could have been made back in the days of Hammer.<br /><br />See this if you like: The Flesh And The Fiends, The Doctor And The Devils, Creepshow.',\n",
       " 'positive')"
      ]
     },
     "execution_count": 25,
     "metadata": {},
     "output_type": "execute_result"
    }
   ],
   "source": [
    "data['review'].iloc[50], data['sentiment'].iloc[50]"
   ]
  },
  {
   "cell_type": "code",
   "execution_count": 26,
   "metadata": {},
   "outputs": [
    {
     "data": {
      "text/plain": [
       "(\"I got the DVD very cheap and I'm a total Drewbie, and thats probably the only constellation where this movie could ever interest anyone.<br /><br />An early Drew movie, she's looking great, and she gets a quite lot of really cute scenes of her, like a shower scene, a sexy dance scene, quite a number of sexy outfits etc. She does never show the friendly charm we know from her more recent movies.<br /><br />The movie itself is pretty average or sub-average, and much more looking like being made for the TV than one for the cinema. There is no real horror or tension built up and the dialogs are often cheesy.<br /><br />The most interesting part is probably the end because I honestly don't understand it. But maybe there is nothing to understand about it anyway. But at least you don't get the end you would be expecting, and it also comes much sooner than one would have expected.<br /><br />Overall I think this movie is exclusively for Drewbies.\",\n",
       " 'negative')"
      ]
     },
     "execution_count": 26,
     "metadata": {},
     "output_type": "execute_result"
    }
   ],
   "source": [
    "data['review'].iloc[0], data['sentiment'].iloc[0]"
   ]
  },
  {
   "cell_type": "markdown",
   "metadata": {},
   "source": [
    "**TEXT CLEANING**"
   ]
  },
  {
   "cell_type": "code",
   "execution_count": 27,
   "metadata": {},
   "outputs": [],
   "source": [
    "def clean_text(text):\n",
    "    text = text.lower()\n",
    "    text = re.sub('<.*?>+', ' ', text)\n",
    "    text = re.sub('[%s]' % re.escape(string.punctuation), ' ', text)\n",
    "    text = re.sub('\\s+', ' ', text)\n",
    "    return text.strip()\n",
    "\n"
   ]
  },
  {
   "cell_type": "code",
   "execution_count": 28,
   "metadata": {},
   "outputs": [
    {
     "data": {
      "text/plain": [
       "'when people harp on about how they don t make em like they used to then just point them towards this fantastically entertaining and quaint looking comedy horror from writer director glenn mcquaid it s a tale of graverobbers played by dominic monaghan and larry fessenden who end up digging up more than just silent immobile corpses after the initial shock of this they soon realise that they can actually turn the situation to their advantage and that s just what they try to do mind you it seems as if things may not have worked out quite as they planned as poor young arthur monaghan is actually relating his tale to a priest ron perlman before being taken to the gallows looking at the detail of his filmography mcquaid seems to have taken the core of his first short movie and expanded it to this feature effort which is no bad thing fessenden returns and does well monaghan is one of those guys who can actually still get you to like him while he goes about the nefarious business of stealing from the dead and with other genre favourites such as perlman and angus scrimm on the scene this film is a lot of fun for genre fans it also benefits from a unique and favourable design and look at times moving from e c comic style panels into live action a la creepshow and always somehow feeling quite authentic in it s hammer horror feel maybe everything is just covered over with so much dry ice but that s beside the point whatever was done to capture everything on film it works it works well it may not have any actual scares but this film does have a great vein of black humour and definitely soaks every minute of it s runtime in macabre material that should please all of those who have the patience for horror that s a little bit more sedate and feels like it definitely could have been made back in the days of hammer see this if you like the flesh and the fiends the doctor and the devils creepshow'"
      ]
     },
     "execution_count": 28,
     "metadata": {},
     "output_type": "execute_result"
    }
   ],
   "source": [
    "clean_text(data['review'].iloc[50])"
   ]
  },
  {
   "cell_type": "code",
   "execution_count": 29,
   "metadata": {},
   "outputs": [
    {
     "name": "stdout",
     "output_type": "stream",
     "text": [
      "0    i got the dvd very cheap and i m a total drewb...\n",
      "1    i liked this comedy so much will smith does no...\n",
      "2    what a piece of junk this movie was the premis...\n",
      "3    i am a big fan of the movie but not for the us...\n",
      "4    im going to keep this fairly brief as to not s...\n",
      "Name: review, dtype: object\n"
     ]
    }
   ],
   "source": [
    "# Apply text cleaning\n",
    "data['review'] = data['review'].apply(clean_text)\n",
    "print(data['review'].head())"
   ]
  },
  {
   "cell_type": "markdown",
   "metadata": {},
   "source": [
    "**TOKENIZATION**"
   ]
  },
  {
   "cell_type": "code",
   "execution_count": 30,
   "metadata": {},
   "outputs": [],
   "source": [
    "vocab = Counter()\n",
    "for review in data['review']:\n",
    "    tokens = word_tokenize(review)\n",
    "    vocab.update(tokens)\n",
    "\n",
    "N = 5000\n",
    "vocab = {word: i + 1 for i, (word, _) in enumerate(vocab.most_common(N))}\n",
    "vocab['<PAD>'] = 0\n",
    "\n",
    "max_length = 200"
   ]
  },
  {
   "cell_type": "code",
   "execution_count": 31,
   "metadata": {},
   "outputs": [],
   "source": [
    "# vocab"
   ]
  },
  {
   "cell_type": "markdown",
   "metadata": {},
   "source": [
    "**X-Y SPLIT**"
   ]
  },
  {
   "cell_type": "code",
   "execution_count": 32,
   "metadata": {},
   "outputs": [],
   "source": [
    "X = [[vocab.get(word, 0) for word in word_tokenize(review)] for review in data['review']]\n",
    "X = [review[:max_length] + [vocab['<PAD>']] * (max_length - len(review)) for review in X]\n",
    "X = np.array(X)\n",
    "y = (data['sentiment'] == 'positive').astype(int).values\n",
    "\n",
    "X_train, X_test, y_train, y_test = train_test_split(X, y, test_size=0.2, random_state=42)\n"
   ]
  },
  {
   "cell_type": "code",
   "execution_count": 33,
   "metadata": {},
   "outputs": [
    {
     "data": {
      "text/plain": [
       "(5000,\n",
       " 200,\n",
       " array([[   9,  196,    1, ...,    0,    0,    0],\n",
       "        [   9,  431,   10, ...,  467,    0,    0],\n",
       "        [  48,    3,  410, ...,    0,    0,    0],\n",
       "        ...,\n",
       "        [   9,  103, 3234, ...,  103,   11, 2283],\n",
       "        [  10,    6,   33, ...,    0,    0,    0],\n",
       "        [1572,   15,    1, ...,   68, 2447,    7]]))"
      ]
     },
     "execution_count": 33,
     "metadata": {},
     "output_type": "execute_result"
    }
   ],
   "source": [
    "len(X), len(X[0]), X"
   ]
  },
  {
   "cell_type": "code",
   "execution_count": 34,
   "metadata": {},
   "outputs": [
    {
     "data": {
      "text/plain": [
       "(5000, array([0, 1, 0, ..., 1, 0, 1]))"
      ]
     },
     "execution_count": 34,
     "metadata": {},
     "output_type": "execute_result"
    }
   ],
   "source": [
    "len(y), y"
   ]
  },
  {
   "cell_type": "markdown",
   "metadata": {},
   "source": [
    "**---LOADER---**"
   ]
  },
  {
   "cell_type": "code",
   "execution_count": 35,
   "metadata": {},
   "outputs": [],
   "source": [
    "class TextReviewDataset(Dataset):\n",
    "    def __init__(self, X, y):\n",
    "        self.X = torch.tensor(X, dtype=torch.long)\n",
    "        self.y = torch.tensor(y, dtype=torch.float32)\n",
    "        \n",
    "    def __len__(self):\n",
    "        return len(self.y)\n",
    "    \n",
    "    def __getitem__(self, idx):\n",
    "        return self.X[idx], self.y[idx]\n",
    "\n",
    "batch_size = 128\n",
    "train_dataset = TextReviewDataset(X_train, y_train)\n",
    "train_loader = DataLoader(train_dataset, batch_size, shuffle=True)\n"
   ]
  },
  {
   "cell_type": "markdown",
   "metadata": {},
   "source": [
    "**SENTIMENT MODEL**"
   ]
  },
  {
   "cell_type": "code",
   "execution_count": 36,
   "metadata": {},
   "outputs": [],
   "source": [
    "class SentimentModel(nn.Module):\n",
    "    def __init__(self, vocab_size, embedding_dim, hidden_dim, output_dim):\n",
    "        super().__init__()\n",
    "        self.embedding = nn.Embedding(vocab_size, embedding_dim)\n",
    "        self.lstm = nn.LSTM(embedding_dim, hidden_dim, batch_first=True)\n",
    "        self.fc = nn.Linear(hidden_dim, output_dim)\n",
    "        self.dropout = nn.Dropout(0.5)\n",
    "        self.sigmoid = nn.Sigmoid()\n",
    "        \n",
    "    def forward(self, x):\n",
    "        x = self.embedding(x)\n",
    "        x = self.dropout(x)\n",
    "        h0, _ = self.lstm(x)\n",
    "        h0 = h0[:, -1, :]\n",
    "        out = self.fc(h0)\n",
    "        return self.sigmoid(out)\n"
   ]
  },
  {
   "cell_type": "markdown",
   "metadata": {},
   "source": [
    "**PARAMS & MODEL INITIALIZATION**"
   ]
  },
  {
   "cell_type": "code",
   "execution_count": 37,
   "metadata": {},
   "outputs": [],
   "source": [
    "vocab_size = len(vocab)\n",
    "embedding_dim = 72\n",
    "hidden_dim = 128\n",
    "output_dim = 1\n",
    "dropout = 0.5\n",
    "model = SentimentModel(vocab_size, embedding_dim, hidden_dim, output_dim)\n",
    "criterion = nn.BCELoss()\n",
    "optimizer = optim.Adam(model.parameters(), lr=0.01)\n",
    "\n",
    "epochs = 12"
   ]
  },
  {
   "cell_type": "markdown",
   "metadata": {},
   "source": [
    "**MODEL TRANING**"
   ]
  },
  {
   "cell_type": "code",
   "execution_count": 38,
   "metadata": {},
   "outputs": [
    {
     "data": {
      "application/vnd.jupyter.widget-view+json": {
       "model_id": "2e7d6915c4b046ffbf7740e0e0631540",
       "version_major": 2,
       "version_minor": 0
      },
      "text/plain": [
       "Training Epochs:   0%|          | 0/12 [00:00<?, ?it/s]"
      ]
     },
     "metadata": {},
     "output_type": "display_data"
    },
    {
     "name": "stdout",
     "output_type": "stream",
     "text": [
      "Epoch 1/12 - Loss: 0.7085\n",
      "Epoch 2/12 - Loss: 0.6910\n",
      "Epoch 3/12 - Loss: 0.6796\n",
      "Epoch 4/12 - Loss: 0.6624\n",
      "Epoch 5/12 - Loss: 0.6342\n",
      "Epoch 6/12 - Loss: 0.5810\n",
      "Epoch 7/12 - Loss: 0.5428\n",
      "Epoch 8/12 - Loss: 0.4786\n",
      "Epoch 9/12 - Loss: 0.4246\n",
      "Epoch 10/12 - Loss: 0.4031\n",
      "Epoch 11/12 - Loss: 0.3720\n",
      "Epoch 12/12 - Loss: 0.3406\n"
     ]
    }
   ],
   "source": [
    "for epoch in tqdm(range(epochs), desc=\"Training Epochs\"):\n",
    "    epoch_loss = 0\n",
    "    for X_batch, y_batch in train_loader:\n",
    "        optimizer.zero_grad()\n",
    "        y_pred = model(X_batch).squeeze()\n",
    "        loss = criterion(y_pred, y_batch)\n",
    "        loss.backward()\n",
    "        optimizer.step()\n",
    "        epoch_loss += loss.item()\n",
    "    print(f\"Epoch {epoch+1}/{epochs} - Loss: {epoch_loss/len(train_loader):.4f}\")\n"
   ]
  },
  {
   "cell_type": "markdown",
   "metadata": {},
   "source": [
    "**EVALUATE MODEL**"
   ]
  },
  {
   "cell_type": "code",
   "execution_count": 39,
   "metadata": {},
   "outputs": [
    {
     "name": "stdout",
     "output_type": "stream",
     "text": [
      "Test Accuracy: 75.30%\n",
      "Test Precision: 77.35%\n",
      "Test Recall: 70.26%\n",
      "Test F1 Score: 73.64%\n",
      "Metrics and confusion matrix saved to model_evaluation.xlsx\n"
     ]
    },
    {
     "data": {
      "image/png": "[encoded data removed]",
      "text/plain": [
       "<Figure size 400x300 with 2 Axes>"
      ]
     },
     "metadata": {},
     "output_type": "display_data"
    }
   ],
   "source": [
    "test_dataset = TextReviewDataset(X_test, y_test)\n",
    "test_loader = DataLoader(test_dataset, batch_size=128, shuffle=False)\n",
    "\n",
    "def evaluate_model(model, test_loader):\n",
    "    model.eval()\n",
    "    y_true = []\n",
    "    y_pred = []\n",
    "    with torch.no_grad():\n",
    "        for X_batch, y_batch in test_loader:\n",
    "            predictions = model(X_batch).squeeze()\n",
    "            predictions = (predictions > 0.5).float()\n",
    "            y_true.extend(y_batch.numpy())\n",
    "            y_pred.extend(predictions.numpy())\n",
    "    # Compute metrics\n",
    "    accuracy = accuracy_score(y_true, y_pred)\n",
    "    precision = precision_score(y_true, y_pred)\n",
    "    recall = recall_score(y_true, y_pred)\n",
    "    f1 = f1_score(y_true, y_pred)\n",
    "    conf_matrix = confusion_matrix(y_true, y_pred)\n",
    "    # Print metrics\n",
    "    print(f'Test Accuracy: {accuracy * 100:.2f}%')\n",
    "    print(f'Test Precision: {precision * 100:.2f}%')\n",
    "    print(f'Test Recall: {recall * 100:.2f}%')\n",
    "    print(f'Test F1 Score: {f1 * 100:.2f}%')\n",
    "\n",
    "    os.makedirs('./evaluation-scores', exist_ok=True)\n",
    "    # Save the scores to an Excel file\n",
    "    scores_df = pd.DataFrame({'Accuracy': [accuracy], 'Precision': [precision], 'Recall': [recall], 'F1 Score': [f1]})\n",
    "    scores_df.to_excel('./evaluation-scores/evaluation_scores-test-model.xlsx', index=False)\n",
    "    # Plot confusion matrix\n",
    "    cm = confusion_matrix(y_true, y_pred)\n",
    "    plt.figure(figsize=(4, 3))\n",
    "    sns.heatmap(cm, annot=True, fmt='d')\n",
    "    plt.title('Confusion Matrix')\n",
    "    plt.xlabel('Predicted')\n",
    "    plt.ylabel('Actual')\n",
    "    plt.savefig('./evaluation-scores/confusion_matrix-test-model.png')\n",
    "    print('Metrics and confusion matrix saved to model_evaluation.xlsx')\n",
    "    \n",
    "    return accuracy, precision, recall, f1, conf_matrix\n",
    "\n",
    "# Evaluate the model\n",
    "accuracy, precision, recall, f1, conf_matrix = evaluate_model(model, test_loader)"
   ]
  },
  {
   "cell_type": "markdown",
   "metadata": {},
   "source": [
    "**SAVE THE MODEL**"
   ]
  },
  {
   "cell_type": "code",
   "execution_count": 40,
   "metadata": {},
   "outputs": [],
   "source": [
    "os.makedirs('./saved-model', exist_ok=True)"
   ]
  },
  {
   "cell_type": "code",
   "execution_count": 41,
   "metadata": {},
   "outputs": [],
   "source": [
    "# Save the entire model\n",
    "torch.save(model, './saved-model/test-model.pth')"
   ]
  },
  {
   "cell_type": "markdown",
   "metadata": {},
   "source": [
    "**LOAD THE SAVED MODEL**"
   ]
  },
  {
   "cell_type": "code",
   "execution_count": 42,
   "metadata": {},
   "outputs": [],
   "source": [
    "# Load the entire model\n",
    "loadedmodel = torch.load('./saved-model/test-model.pth')\n"
   ]
  },
  {
   "cell_type": "markdown",
   "metadata": {},
   "source": [
    "**FUNCTION TO PREDICT FROM LOADED MODEL**"
   ]
  },
  {
   "cell_type": "code",
   "execution_count": 43,
   "metadata": {},
   "outputs": [],
   "source": [
    "def predict_sentiment(sentence, model, vocab, max_length=200):\n",
    "    sentence = clean_text(sentence)\n",
    "    tokens = word_tokenize(sentence)\n",
    "    token_ids = [vocab.get(token, 0) for token in tokens]\n",
    "    token_ids = token_ids[:max_length] + [vocab['<PAD>']] * (max_length - len(token_ids))\n",
    "    token_ids_tensor = torch.tensor(token_ids, dtype=torch.long).unsqueeze(0)\n",
    "\n",
    "    model.eval()\n",
    "    with torch.no_grad():\n",
    "        prediction = model(token_ids_tensor).squeeze().item()\n",
    "    return \"positive\" if prediction > 0.5 else \"negative\"\n"
   ]
  },
  {
   "cell_type": "markdown",
   "metadata": {},
   "source": [
    "**SENTIMENT PREDICTION**"
   ]
  },
  {
   "cell_type": "code",
   "execution_count": 44,
   "metadata": {},
   "outputs": [
    {
     "name": "stdout",
     "output_type": "stream",
     "text": [
      "The predicted sentiment for the sentence is: positive\n"
     ]
    }
   ],
   "source": [
    "sentence = \"The movie was good\"\n",
    "# sentence = \"Thank god for karan johar otherwise we would have missed out so many interesting movies\"\n",
    "sentiment = predict_sentiment(sentence, loadedmodel, vocab, max_length)\n",
    "print(f\"The predicted sentiment for the sentence is: {sentiment}\")"
   ]
  }
 ],
 "metadata": {
  "kernelspec": {
   "display_name": "Python 3",
   "language": "python",
   "name": "python3"
  },
  "language_info": {
   "codemirror_mode": {
    "name": "ipython",
    "version": 3
   },
   "file_extension": ".py",
   "mimetype": "text/x-python",
   "name": "python",
   "nbconvert_exporter": "python",
   "pygments_lexer": "ipython3",
   "version": "3.11.1"
  },
  "orig_nbformat": 4
 },
 "nbformat": 4,
 "nbformat_minor": 2
}
